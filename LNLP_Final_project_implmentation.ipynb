{
  "cells": [
    {
      "cell_type": "code",
      "execution_count": 1,
      "metadata": {
        "id": "DOJqsilSN1Ss"
      },
      "outputs": [],
      "source": [
        "import tensorflow as tf\n",
        "import numpy as np\n",
        "import matplotlib.pyplot as plt\n"
      ]
    },
    {
      "cell_type": "code",
      "execution_count": 2,
      "metadata": {
        "id": "eipSppHbN1Sw"
      },
      "outputs": [],
      "source": [
        "# Load MNIST dataset\n",
        "(x_train, y_train), (x_test, y_test) = tf.keras.datasets.mnist.load_data()\n",
        "\n",
        "# Normalize the dataset\n",
        "x_train = x_train.astype(\"float32\") / 255.0\n",
        "x_test = x_test.astype(\"float32\") / 255.0\n",
        "\n",
        "# Reshape input data for neural network\n",
        "x_train = x_train.reshape(-1, 28 * 28)\n",
        "x_test = x_test.reshape(-1, 28 * 28)\n",
        "\n",
        "# Convert labels to one-hot encoding\n",
        "y_train = tf.keras.utils.to_categorical(y_train, 10)\n",
        "y_test = tf.keras.utils.to_categorical(y_test, 10)\n"
      ]
    },
    {
      "cell_type": "code",
      "execution_count": 3,
      "metadata": {
        "id": "vTb24CwpN1Sy"
      },
      "outputs": [],
      "source": [
        "def create_model():\n",
        "    return tf.keras.Sequential([\n",
        "        tf.keras.layers.Dense(128, activation='relu'),\n",
        "        tf.keras.layers.Dense(64, activation='relu'),\n",
        "        tf.keras.layers.Dense(10, activation='softmax')\n",
        "    ])\n"
      ]
    },
    {
      "cell_type": "code",
      "execution_count": 4,
      "metadata": {
        "id": "kp7dZTx2N1Sy"
      },
      "outputs": [],
      "source": [
        "def train_and_evaluate(optimizer, optimizer_name, epochs=10, batch_size=64):\n",
        "    model = create_model()\n",
        "    loss_fn = tf.keras.losses.CategoricalCrossentropy()\n",
        "    train_dataset = tf.data.Dataset.from_tensor_slices((x_train, y_train)).shuffle(10000).batch(batch_size)\n",
        "    test_dataset = tf.data.Dataset.from_tensor_slices((x_test, y_test)).batch(batch_size)\n",
        "\n",
        "    train_accuracies = []\n",
        "    test_accuracies = []\n",
        "\n",
        "    for epoch in range(epochs):\n",
        "        # Training loop\n",
        "        for x_batch, y_batch in train_dataset:\n",
        "            with tf.GradientTape() as tape:\n",
        "                predictions = model(x_batch, training=True)\n",
        "                loss = loss_fn(y_batch, predictions)\n",
        "            gradients = tape.gradient(loss, model.trainable_variables)\n",
        "\n",
        "            # Apply gradients using the custom or built-in optimizer\n",
        "            if isinstance(optimizer, (SGD, SGDMomentum, Adam)):\n",
        "                optimizer.apply_gradients(gradients, model.trainable_variables)\n",
        "            else:\n",
        "                optimizer.apply_gradients(zip(gradients, model.trainable_variables))\n",
        "\n",
        "        # Evaluate training accuracy\n",
        "        train_accuracy = tf.keras.metrics.CategoricalAccuracy()\n",
        "        for x_batch, y_batch in train_dataset:\n",
        "            predictions = model(x_batch, training=False)\n",
        "            train_accuracy.update_state(y_batch, predictions)\n",
        "        train_accuracies.append(train_accuracy.result().numpy())\n",
        "\n",
        "        # Evaluate test accuracy\n",
        "        test_accuracy = tf.keras.metrics.CategoricalAccuracy()\n",
        "        for x_batch, y_batch in test_dataset:\n",
        "            predictions = model(x_batch, training=False)\n",
        "            test_accuracy.update_state(y_batch, predictions)\n",
        "        test_accuracies.append(test_accuracy.result().numpy())\n",
        "\n",
        "        print(f\"Epoch {epoch + 1}/{epochs}, Optimizer: {optimizer_name}, Train Accuracy: {train_accuracy.result().numpy():.4f}, Test Accuracy: {test_accuracy.result().numpy():.4f}\")\n",
        "\n",
        "    return train_accuracies, test_accuracies\n"
      ]
    },
    {
      "cell_type": "code",
      "execution_count": 5,
      "metadata": {
        "id": "WnPz5NAGN1Sz"
      },
      "outputs": [],
      "source": [
        "class SGD:\n",
        "    def __init__(self, learning_rate=0.01):\n",
        "        self.learning_rate = learning_rate\n",
        "\n",
        "    def apply_gradients(self, gradients, variables):\n",
        "        for grad, var in zip(gradients, variables):\n",
        "            var.assign_sub(self.learning_rate * grad)\n"
      ]
    },
    {
      "cell_type": "code",
      "execution_count": 6,
      "metadata": {
        "id": "AbgFljEGN1Sz"
      },
      "outputs": [],
      "source": [
        "class SGDMomentum:\n",
        "    def __init__(self, learning_rate=0.01, momentum=0.9):\n",
        "        self.learning_rate = learning_rate\n",
        "        self.momentum = momentum\n",
        "        self.velocities = {}\n",
        "\n",
        "    def apply_gradients(self, gradients, variables):\n",
        "        for i, (grad, var) in enumerate(zip(gradients, variables)):\n",
        "            if i not in self.velocities:\n",
        "                self.velocities[i] = tf.zeros_like(var)\n",
        "            velocity = self.momentum * self.velocities[i] + grad\n",
        "            self.velocities[i] = velocity\n",
        "            var.assign_sub(self.learning_rate * velocity)"
      ]
    },
    {
      "cell_type": "code",
      "execution_count": 7,
      "metadata": {
        "id": "WUGP-yusN1S0"
      },
      "outputs": [],
      "source": [
        "class Adam:\n",
        "    def __init__(self, learning_rate=0.001, beta1=0.9, beta2=0.999, epsilon=1e-7):\n",
        "        self.learning_rate = learning_rate\n",
        "        self.beta1 = beta1\n",
        "        self.beta2 = beta2\n",
        "        self.epsilon = epsilon\n",
        "        self.m = {}\n",
        "        self.v = {}\n",
        "        self.t = 0\n",
        "\n",
        "    def apply_gradients(self, gradients, variables):\n",
        "        self.t += 1\n",
        "        for i, (grad, var) in enumerate(zip(gradients, variables)):\n",
        "            if i not in self.m:\n",
        "                self.m[i] = tf.zeros_like(var)\n",
        "                self.v[i] = tf.zeros_like(var)\n",
        "\n",
        "            self.m[i] = self.beta1 * self.m[i] + (1 - self.beta1) * grad\n",
        "            self.v[i] = self.beta2 * self.v[i] + (1 - self.beta2) * tf.square(grad)\n",
        "\n",
        "            m_hat = self.m[i] / (1 - self.beta1 ** self.t)\n",
        "            v_hat = self.v[i] / (1 - self.beta2 ** self.t)\n",
        "\n",
        "            var.assign_sub(self.learning_rate * m_hat / (tf.sqrt(v_hat) + self.epsilon))"
      ]
    },
    {
      "cell_type": "code",
      "execution_count": 8,
      "metadata": {
        "id": "N88cDBqvN1S0"
      },
      "outputs": [],
      "source": [
        "# Custom optimizers\n",
        "custom_sgd = SGD(learning_rate=0.01)\n",
        "custom_sgd_momentum = SGDMomentum(learning_rate=0.01, momentum=0.9)\n",
        "custom_adam = Adam(learning_rate=0.001)\n",
        "\n",
        "# Built-in optimizers\n",
        "tf_sgd = tf.keras.optimizers.SGD(learning_rate=0.01)\n",
        "tf_sgd_momentum = tf.keras.optimizers.SGD(learning_rate=0.01, momentum=0.9)\n",
        "tf_adam = tf.keras.optimizers.Adam(learning_rate=0.001)\n"
      ]
    },
    {
      "cell_type": "code",
      "execution_count": 9,
      "metadata": {
        "id": "whf2Y8WzN1S1",
        "outputId": "695ac9af-9d45-4b6d-9667-2ccf8e54f5fe"
      },
      "outputs": [
        {
          "name": "stdout",
          "output_type": "stream",
          "text": [
            "Epoch 1/10, Optimizer: Custom SGD, Train Accuracy: 0.8821, Test Accuracy: 0.8894\n",
            "Epoch 2/10, Optimizer: Custom SGD, Train Accuracy: 0.9066, Test Accuracy: 0.9117\n",
            "Epoch 3/10, Optimizer: Custom SGD, Train Accuracy: 0.9189, Test Accuracy: 0.9221\n",
            "Epoch 4/10, Optimizer: Custom SGD, Train Accuracy: 0.9258, Test Accuracy: 0.9287\n",
            "Epoch 5/10, Optimizer: Custom SGD, Train Accuracy: 0.9326, Test Accuracy: 0.9333\n",
            "Epoch 6/10, Optimizer: Custom SGD, Train Accuracy: 0.9390, Test Accuracy: 0.9393\n",
            "Epoch 7/10, Optimizer: Custom SGD, Train Accuracy: 0.9439, Test Accuracy: 0.9431\n",
            "Epoch 8/10, Optimizer: Custom SGD, Train Accuracy: 0.9469, Test Accuracy: 0.9470\n",
            "Epoch 9/10, Optimizer: Custom SGD, Train Accuracy: 0.9496, Test Accuracy: 0.9486\n",
            "Epoch 10/10, Optimizer: Custom SGD, Train Accuracy: 0.9527, Test Accuracy: 0.9514\n",
            "Epoch 1/10, Optimizer: Custom SGD with Momentum, Train Accuracy: 0.9453, Test Accuracy: 0.9432\n",
            "Epoch 2/10, Optimizer: Custom SGD with Momentum, Train Accuracy: 0.9628, Test Accuracy: 0.9576\n",
            "Epoch 3/10, Optimizer: Custom SGD with Momentum, Train Accuracy: 0.9728, Test Accuracy: 0.9671\n",
            "Epoch 4/10, Optimizer: Custom SGD with Momentum, Train Accuracy: 0.9770, Test Accuracy: 0.9693\n",
            "Epoch 5/10, Optimizer: Custom SGD with Momentum, Train Accuracy: 0.9829, Test Accuracy: 0.9740\n",
            "Epoch 6/10, Optimizer: Custom SGD with Momentum, Train Accuracy: 0.9876, Test Accuracy: 0.9741\n",
            "Epoch 7/10, Optimizer: Custom SGD with Momentum, Train Accuracy: 0.9874, Test Accuracy: 0.9742\n",
            "Epoch 8/10, Optimizer: Custom SGD with Momentum, Train Accuracy: 0.9890, Test Accuracy: 0.9753\n",
            "Epoch 9/10, Optimizer: Custom SGD with Momentum, Train Accuracy: 0.9909, Test Accuracy: 0.9750\n",
            "Epoch 10/10, Optimizer: Custom SGD with Momentum, Train Accuracy: 0.9927, Test Accuracy: 0.9765\n",
            "Epoch 1/10, Optimizer: Custom Adam, Train Accuracy: 0.9646, Test Accuracy: 0.9612\n",
            "Epoch 2/10, Optimizer: Custom Adam, Train Accuracy: 0.9721, Test Accuracy: 0.9658\n",
            "Epoch 3/10, Optimizer: Custom Adam, Train Accuracy: 0.9812, Test Accuracy: 0.9726\n",
            "Epoch 4/10, Optimizer: Custom Adam, Train Accuracy: 0.9854, Test Accuracy: 0.9729\n",
            "Epoch 5/10, Optimizer: Custom Adam, Train Accuracy: 0.9919, Test Accuracy: 0.9793\n",
            "Epoch 6/10, Optimizer: Custom Adam, Train Accuracy: 0.9918, Test Accuracy: 0.9757\n",
            "Epoch 7/10, Optimizer: Custom Adam, Train Accuracy: 0.9904, Test Accuracy: 0.9757\n",
            "Epoch 8/10, Optimizer: Custom Adam, Train Accuracy: 0.9950, Test Accuracy: 0.9792\n",
            "Epoch 9/10, Optimizer: Custom Adam, Train Accuracy: 0.9940, Test Accuracy: 0.9772\n",
            "Epoch 10/10, Optimizer: Custom Adam, Train Accuracy: 0.9932, Test Accuracy: 0.9766\n",
            "Epoch 1/10, Optimizer: TensorFlow SGD, Train Accuracy: 0.8873, Test Accuracy: 0.8891\n",
            "Epoch 2/10, Optimizer: TensorFlow SGD, Train Accuracy: 0.9069, Test Accuracy: 0.9112\n",
            "Epoch 3/10, Optimizer: TensorFlow SGD, Train Accuracy: 0.9211, Test Accuracy: 0.9225\n",
            "Epoch 4/10, Optimizer: TensorFlow SGD, Train Accuracy: 0.9277, Test Accuracy: 0.9296\n",
            "Epoch 5/10, Optimizer: TensorFlow SGD, Train Accuracy: 0.9344, Test Accuracy: 0.9356\n",
            "Epoch 6/10, Optimizer: TensorFlow SGD, Train Accuracy: 0.9379, Test Accuracy: 0.9375\n",
            "Epoch 7/10, Optimizer: TensorFlow SGD, Train Accuracy: 0.9436, Test Accuracy: 0.9416\n",
            "Epoch 8/10, Optimizer: TensorFlow SGD, Train Accuracy: 0.9472, Test Accuracy: 0.9443\n",
            "Epoch 9/10, Optimizer: TensorFlow SGD, Train Accuracy: 0.9497, Test Accuracy: 0.9468\n",
            "Epoch 10/10, Optimizer: TensorFlow SGD, Train Accuracy: 0.9526, Test Accuracy: 0.9500\n",
            "Epoch 1/10, Optimizer: TensorFlow SGD with Momentum, Train Accuracy: 0.9435, Test Accuracy: 0.9426\n",
            "Epoch 2/10, Optimizer: TensorFlow SGD with Momentum, Train Accuracy: 0.9654, Test Accuracy: 0.9623\n",
            "Epoch 3/10, Optimizer: TensorFlow SGD with Momentum, Train Accuracy: 0.9726, Test Accuracy: 0.9660\n",
            "Epoch 4/10, Optimizer: TensorFlow SGD with Momentum, Train Accuracy: 0.9781, Test Accuracy: 0.9707\n",
            "Epoch 5/10, Optimizer: TensorFlow SGD with Momentum, Train Accuracy: 0.9841, Test Accuracy: 0.9738\n",
            "Epoch 6/10, Optimizer: TensorFlow SGD with Momentum, Train Accuracy: 0.9858, Test Accuracy: 0.9745\n",
            "Epoch 7/10, Optimizer: TensorFlow SGD with Momentum, Train Accuracy: 0.9862, Test Accuracy: 0.9729\n",
            "Epoch 8/10, Optimizer: TensorFlow SGD with Momentum, Train Accuracy: 0.9903, Test Accuracy: 0.9755\n",
            "Epoch 9/10, Optimizer: TensorFlow SGD with Momentum, Train Accuracy: 0.9902, Test Accuracy: 0.9748\n",
            "Epoch 10/10, Optimizer: TensorFlow SGD with Momentum, Train Accuracy: 0.9902, Test Accuracy: 0.9745\n",
            "Epoch 1/10, Optimizer: TensorFlow Adam, Train Accuracy: 0.9608, Test Accuracy: 0.9587\n",
            "Epoch 2/10, Optimizer: TensorFlow Adam, Train Accuracy: 0.9784, Test Accuracy: 0.9709\n",
            "Epoch 3/10, Optimizer: TensorFlow Adam, Train Accuracy: 0.9830, Test Accuracy: 0.9735\n",
            "Epoch 4/10, Optimizer: TensorFlow Adam, Train Accuracy: 0.9864, Test Accuracy: 0.9766\n",
            "Epoch 5/10, Optimizer: TensorFlow Adam, Train Accuracy: 0.9847, Test Accuracy: 0.9743\n",
            "Epoch 6/10, Optimizer: TensorFlow Adam, Train Accuracy: 0.9915, Test Accuracy: 0.9789\n",
            "Epoch 7/10, Optimizer: TensorFlow Adam, Train Accuracy: 0.9921, Test Accuracy: 0.9771\n",
            "Epoch 8/10, Optimizer: TensorFlow Adam, Train Accuracy: 0.9944, Test Accuracy: 0.9788\n",
            "Epoch 9/10, Optimizer: TensorFlow Adam, Train Accuracy: 0.9944, Test Accuracy: 0.9777\n",
            "Epoch 10/10, Optimizer: TensorFlow Adam, Train Accuracy: 0.9971, Test Accuracy: 0.9815\n"
          ]
        }
      ],
      "source": [
        "# Dictionary to store results\n",
        "results = {}\n",
        "\n",
        "# Train with Custom SGD\n",
        "results[\"Custom SGD\"] = train_and_evaluate(custom_sgd, \"Custom SGD\")\n",
        "\n",
        "# Train with Custom SGD with Momentum\n",
        "results[\"Custom SGD with Momentum\"] = train_and_evaluate(custom_sgd_momentum, \"Custom SGD with Momentum\")\n",
        "\n",
        "# Train with Custom Adam\n",
        "results[\"Custom Adam\"] = train_and_evaluate(custom_adam, \"Custom Adam\")\n",
        "\n",
        "# Train with TensorFlow SGD\n",
        "results[\"TensorFlow SGD\"] = train_and_evaluate(tf_sgd, \"TensorFlow SGD\")\n",
        "\n",
        "# Train with TensorFlow SGD with Momentum\n",
        "results[\"TensorFlow SGD with Momentum\"] = train_and_evaluate(tf_sgd_momentum, \"TensorFlow SGD with Momentum\")\n",
        "\n",
        "# Train with TensorFlow Adam\n",
        "results[\"TensorFlow Adam\"] = train_and_evaluate(tf_adam, \"TensorFlow Adam\")\n"
      ]
    },
    {
      "cell_type": "code",
      "execution_count": 10,
      "metadata": {
        "id": "qLcda0q0N1S2",
        "outputId": "ca3915f0-0a40-4e73-bb3e-108c9de3740a"
      },
      "outputs": [
        {
          "data": {
            "image/png": "[encoded data removed]",
            "text/plain": [
              "<Figure size 1400x600 with 1 Axes>"
            ]
          },
          "metadata": {},
          "output_type": "display_data"
        },
        {
          "data": {
            "image/png": "[encoded data removed]",
            "text/plain": [
              "<Figure size 1400x600 with 1 Axes>"
            ]
          },
          "metadata": {},
          "output_type": "display_data"
        }
      ],
      "source": [
        "# Plot Training Accuracy\n",
        "plt.figure(figsize=(14, 6))\n",
        "for name, (train_accuracies, _) in results.items():\n",
        "    plt.plot(train_accuracies, label=f\"{name} (Train)\")\n",
        "plt.title(\"Training Accuracy Comparison\")\n",
        "plt.xlabel(\"Epoch\")\n",
        "plt.ylabel(\"Accuracy\")\n",
        "plt.legend()\n",
        "plt.grid(True)\n",
        "plt.show()\n",
        "\n",
        "# Plot Test Accuracy\n",
        "plt.figure(figsize=(14, 6))\n",
        "for name, (_, test_accuracies) in results.items():\n",
        "    plt.plot(test_accuracies, label=f\"{name} (Test)\")\n",
        "plt.title(\"Test Accuracy Comparison\")\n",
        "plt.xlabel(\"Epoch\")\n",
        "plt.ylabel(\"Accuracy\")\n",
        "plt.legend()\n",
        "plt.grid(True)\n",
        "plt.show()\n"
      ]
    },
    {
      "cell_type": "code",
      "execution_count": 25,
      "metadata": {
        "id": "_cFMuSz3N1S2",
        "outputId": "9caa106f-821e-4a93-ec4b-bc163ab4781c"
      },
      "outputs": [
        {
          "name": "stdout",
          "output_type": "stream",
          "text": [
            "\n",
            "Comparison of Final Test Accuracies:\n",
            "+-------------+--------------+------------------+\n",
            "| Optimizer   |   Custom Acc |   TensorFlow Acc |\n",
            "+=============+==============+==================+\n",
            "| SGD         |       0.9514 |           0.95   |\n",
            "+-------------+--------------+------------------+\n",
            "| Momentum    |       0.9765 |           0.9745 |\n",
            "+-------------+--------------+------------------+\n",
            "| Adam        |       0.9766 |           0.9815 |\n",
            "+-------------+--------------+------------------+\n"
          ]
        }
      ],
      "source": [
        "from tabulate import tabulate\n",
        "\n",
        "print(\"\\nComparison of Final Test Accuracies:\")\n",
        "headers = [\"Optimizer\", \"Custom Acc\", \"TensorFlow Acc\"]\n",
        "table = []\n",
        "for name, (_, test_accuracies) in results.items():\n",
        "    if \"Custom\" in name:\n",
        "        optimizer_name = name.split(\" \")[-1]\n",
        "    else:\n",
        "        optimizer_name = name.split(\" \")[-2]\n",
        "    custom_acc = test_accuracies[-1]\n",
        "    tf_acc = results[name.replace(\"Custom\", \"TensorFlow\")][1][-1]\n",
        "    table.append([optimizer_name, f\"{custom_acc:.4f}\", f\"{tf_acc:.4f}\"])\n",
        "print(tabulate(table[:3], headers=headers, tablefmt=\"grid\"))\n"
      ]
    },
    {
      "cell_type": "code",
      "execution_count": 17,
      "metadata": {},
      "outputs": [],
      "source": [
        "import seaborn as sns\n",
        "import plotly.express as px\n",
        "import plotly.graph_objects as go\n",
        "import pandas as pd"
      ]
    },
    {
      "cell_type": "code",
      "execution_count": 18,
      "metadata": {},
      "outputs": [
        {
          "data": {
            "application/vnd.plotly.v1+json": {
              "config": {
                "plotlyServerURL": "https://plot.ly"
              },
              "data": [
                {
                  "hovertemplate": "Optimizer=%{y}<br>Epoch=%{x}<br>Training Accuracy=%{z}<extra></extra>",
                  "legendgroup": "Custom SGD",
                  "line": {
                    "color": "#636efa",
                    "dash": "solid",
                    "width": 4
                  },
                  "marker": {
                    "symbol": "circle"
                  },
                  "mode": "lines",
                  "name": "Custom SGD",
                  "scene": "scene",
                  "showlegend": true,
                  "type": "scatter3d",
                  "x": [
                    1,
                    2,
                    3,
                    4,
                    5,
                    6,
                    7,
                    8,
                    9,
                    10
                  ],
                  "y": [
                    "Custom SGD",
                    "Custom SGD",
                    "Custom SGD",
                    "Custom SGD",
                    "Custom SGD",
                    "Custom SGD",
                    "Custom SGD",
                    "Custom SGD",
                    "Custom SGD",
                    "Custom SGD"
                  ],
                  "z": [
                    0.8821333050727844,
                    0.9066166877746582,
                    0.9188500046730042,
                    0.925849974155426,
                    0.9326000213623047,
                    0.9389833211898804,
                    0.9438999891281128,
                    0.9468833208084106,
                    0.949566662311554,
                    0.9526666402816772
                  ]
                },
                {
                  "hovertemplate": "Optimizer=%{y}<br>Epoch=%{x}<br>Training Accuracy=%{z}<extra></extra>",
                  "legendgroup": "Custom SGD with Momentum",
                  "line": {
                    "color": "#EF553B",
                    "dash": "solid",
                    "width": 4
                  },
                  "marker": {
                    "symbol": "circle"
                  },
                  "mode": "lines",
                  "name": "Custom SGD with Momentum",
                  "scene": "scene",
                  "showlegend": true,
                  "type": "scatter3d",
                  "x": [
                    1,
                    2,
                    3,
                    4,
                    5,
                    6,
                    7,
                    8,
                    9,
                    10
                  ],
                  "y": [
                    "Custom SGD with Momentum",
                    "Custom SGD with Momentum",
                    "Custom SGD with Momentum",
                    "Custom SGD with Momentum",
                    "Custom SGD with Momentum",
                    "Custom SGD with Momentum",
                    "Custom SGD with Momentum",
                    "Custom SGD with Momentum",
                    "Custom SGD with Momentum",
                    "Custom SGD with Momentum"
                  ],
                  "z": [
                    0.9452833533287048,
                    0.9627666473388672,
                    0.9728166460990906,
                    0.9769666790962219,
                    0.9829000234603882,
                    0.9876499772071838,
                    0.9873999953269958,
                    0.9890499711036682,
                    0.990933358669281,
                    0.9926833510398865
                  ]
                },
                {
                  "hovertemplate": "Optimizer=%{y}<br>Epoch=%{x}<br>Training Accuracy=%{z}<extra></extra>",
                  "legendgroup": "Custom Adam",
                  "line": {
                    "color": "#00cc96",
                    "dash": "solid",
                    "width": 4
                  },
                  "marker": {
                    "symbol": "circle"
                  },
                  "mode": "lines",
                  "name": "Custom Adam",
                  "scene": "scene",
                  "showlegend": true,
                  "type": "scatter3d",
                  "x": [
                    1,
                    2,
                    3,
                    4,
                    5,
                    6,
                    7,
                    8,
                    9,
                    10
                  ],
                  "y": [
                    "Custom Adam",
                    "Custom Adam",
                    "Custom Adam",
                    "Custom Adam",
                    "Custom Adam",
                    "Custom Adam",
                    "Custom Adam",
                    "Custom Adam",
                    "Custom Adam",
                    "Custom Adam"
                  ],
                  "z": [
                    0.9646333456039429,
                    0.972083330154419,
                    0.9812166690826416,
                    0.9853666424751282,
                    0.9919000267982483,
                    0.9918000102043152,
                    0.9904166460037231,
                    0.9949833154678345,
                    0.9939666390419006,
                    0.9932000041007996
                  ]
                }
              ],
              "layout": {
                "height": 600,
                "legend": {
                  "title": {
                    "text": "Optimizer"
                  },
                  "tracegroupgap": 0
                },
                "scene": {
                  "domain": {
                    "x": [
                      0,
                      1
                    ],
                    "y": [
                      0,
                      1
                    ]
                  },
                  "xaxis": {
                    "title": {
                      "text": "Epoch"
                    }
                  },
                  "yaxis": {
                    "categoryarray": [
                      "Custom SGD",
                      "Custom SGD with Momentum",
                      "Custom Adam"
                    ],
                    "categoryorder": "array",
                    "title": {
                      "text": "Optimizer"
                    }
                  },
                  "zaxis": {
                    "title": {
                      "text": "Training Accuracy"
                    }
                  }
                },
                "showlegend": true,
                "template": {
                  "data": {
                    "bar": [
                      {
                        "error_x": {
                          "color": "#2a3f5f"
                        },
                        "error_y": {
                          "color": "#2a3f5f"
                        },
                        "marker": {
                          "line": {
                            "color": "#E5ECF6",
                            "width": 0.5
                          },
                          "pattern": {
                            "fillmode": "overlay",
                            "size": 10,
                            "solidity": 0.2
                          }
                        },
                        "type": "bar"
                      }
                    ],
                    "barpolar": [
                      {
                        "marker": {
                          "line": {
                            "color": "#E5ECF6",
                            "width": 0.5
                          },
                          "pattern": {
                            "fillmode": "overlay",
                            "size": 10,
                            "solidity": 0.2
                          }
                        },
                        "type": "barpolar"
                      }
                    ],
                    "carpet": [
                      {
                        "aaxis": {
                          "endlinecolor": "#2a3f5f",
                          "gridcolor": "white",
                          "linecolor": "white",
                          "minorgridcolor": "white",
                          "startlinecolor": "#2a3f5f"
                        },
                        "baxis": {
                          "endlinecolor": "#2a3f5f",
                          "gridcolor": "white",
                          "linecolor": "white",
                          "minorgridcolor": "white",
                          "startlinecolor": "#2a3f5f"
                        },
                        "type": "carpet"
                      }
                    ],
                    "choropleth": [
                      {
                        "colorbar": {
                          "outlinewidth": 0,
                          "ticks": ""
                        },
                        "type": "choropleth"
                      }
                    ],
                    "contour": [
                      {
                        "colorbar": {
                          "outlinewidth": 0,
                          "ticks": ""
                        },
                        "colorscale": [
                          [
                            0,
                            "#0d0887"
                          ],
                          [
                            0.1111111111111111,
                            "#46039f"
                          ],
                          [
                            0.2222222222222222,
                            "#7201a8"
                          ],
                          [
                            0.3333333333333333,
                            "#9c179e"
                          ],
                          [
                            0.4444444444444444,
                            "#bd3786"
                          ],
                          [
                            0.5555555555555556,
                            "#d8576b"
                          ],
                          [
                            0.6666666666666666,
                            "#ed7953"
                          ],
                          [
                            0.7777777777777778,
                            "#fb9f3a"
                          ],
                          [
                            0.8888888888888888,
                            "#fdca26"
                          ],
                          [
                            1,
                            "#f0f921"
                          ]
                        ],
                        "type": "contour"
                      }
                    ],
                    "contourcarpet": [
                      {
                        "colorbar": {
                          "outlinewidth": 0,
                          "ticks": ""
                        },
                        "type": "contourcarpet"
                      }
                    ],
                    "heatmap": [
                      {
                        "colorbar": {
                          "outlinewidth": 0,
                          "ticks": ""
                        },
                        "colorscale": [
                          [
                            0,
                            "#0d0887"
                          ],
                          [
                            0.1111111111111111,
                            "#46039f"
                          ],
                          [
                            0.2222222222222222,
                            "#7201a8"
                          ],
                          [
                            0.3333333333333333,
                            "#9c179e"
                          ],
                          [
                            0.4444444444444444,
                            "#bd3786"
                          ],
                          [
                            0.5555555555555556,
                            "#d8576b"
                          ],
                          [
                            0.6666666666666666,
                            "#ed7953"
                          ],
                          [
                            0.7777777777777778,
                            "#fb9f3a"
                          ],
                          [
                            0.8888888888888888,
                            "#fdca26"
                          ],
                          [
                            1,
                            "#f0f921"
                          ]
                        ],
                        "type": "heatmap"
                      }
                    ],
                    "heatmapgl": [
                      {
                        "colorbar": {
                          "outlinewidth": 0,
                          "ticks": ""
                        },
                        "colorscale": [
                          [
                            0,
                            "#0d0887"
                          ],
                          [
                            0.1111111111111111,
                            "#46039f"
                          ],
                          [
                            0.2222222222222222,
                            "#7201a8"
                          ],
                          [
                            0.3333333333333333,
                            "#9c179e"
                          ],
                          [
                            0.4444444444444444,
                            "#bd3786"
                          ],
                          [
                            0.5555555555555556,
                            "#d8576b"
                          ],
                          [
                            0.6666666666666666,
                            "#ed7953"
                          ],
                          [
                            0.7777777777777778,
                            "#fb9f3a"
                          ],
                          [
                            0.8888888888888888,
                            "#fdca26"
                          ],
                          [
                            1,
                            "#f0f921"
                          ]
                        ],
                        "type": "heatmapgl"
                      }
                    ],
                    "histogram": [
                      {
                        "marker": {
                          "pattern": {
                            "fillmode": "overlay",
                            "size": 10,
                            "solidity": 0.2
                          }
                        },
                        "type": "histogram"
                      }
                    ],
                    "histogram2d": [
                      {
                        "colorbar": {
                          "outlinewidth": 0,
                          "ticks": ""
                        },
                        "colorscale": [
                          [
                            0,
                            "#0d0887"
                          ],
                          [
                            0.1111111111111111,
                            "#46039f"
                          ],
                          [
                            0.2222222222222222,
                            "#7201a8"
                          ],
                          [
                            0.3333333333333333,
                            "#9c179e"
                          ],
                          [
                            0.4444444444444444,
                            "#bd3786"
                          ],
                          [
                            0.5555555555555556,
                            "#d8576b"
                          ],
                          [
                            0.6666666666666666,
                            "#ed7953"
                          ],
                          [
                            0.7777777777777778,
                            "#fb9f3a"
                          ],
                          [
                            0.8888888888888888,
                            "#fdca26"
                          ],
                          [
                            1,
                            "#f0f921"
                          ]
                        ],
                        "type": "histogram2d"
                      }
                    ],
                    "histogram2dcontour": [
                      {
                        "colorbar": {
                          "outlinewidth": 0,
                          "ticks": ""
                        },
                        "colorscale": [
                          [
                            0,
                            "#0d0887"
                          ],
                          [
                            0.1111111111111111,
                            "#46039f"
                          ],
                          [
                            0.2222222222222222,
                            "#7201a8"
                          ],
                          [
                            0.3333333333333333,
                            "#9c179e"
                          ],
                          [
                            0.4444444444444444,
                            "#bd3786"
                          ],
                          [
                            0.5555555555555556,
                            "#d8576b"
                          ],
                          [
                            0.6666666666666666,
                            "#ed7953"
                          ],
                          [
                            0.7777777777777778,
                            "#fb9f3a"
                          ],
                          [
                            0.8888888888888888,
                            "#fdca26"
                          ],
                          [
                            1,
                            "#f0f921"
                          ]
                        ],
                        "type": "histogram2dcontour"
                      }
                    ],
                    "mesh3d": [
                      {
                        "colorbar": {
                          "outlinewidth": 0,
                          "ticks": ""
                        },
                        "type": "mesh3d"
                      }
                    ],
                    "parcoords": [
                      {
                        "line": {
                          "colorbar": {
                            "outlinewidth": 0,
                            "ticks": ""
                          }
                        },
                        "type": "parcoords"
                      }
                    ],
                    "pie": [
                      {
                        "automargin": true,
                        "type": "pie"
                      }
                    ],
                    "scatter": [
                      {
                        "fillpattern": {
                          "fillmode": "overlay",
                          "size": 10,
                          "solidity": 0.2
                        },
                        "type": "scatter"
                      }
                    ],
                    "scatter3d": [
                      {
                        "line": {
                          "colorbar": {
                            "outlinewidth": 0,
                            "ticks": ""
                          }
                        },
                        "marker": {
                          "colorbar": {
                            "outlinewidth": 0,
                            "ticks": ""
                          }
                        },
                        "type": "scatter3d"
                      }
                    ],
                    "scattercarpet": [
                      {
                        "marker": {
                          "colorbar": {
                            "outlinewidth": 0,
                            "ticks": ""
                          }
                        },
                        "type": "scattercarpet"
                      }
                    ],
                    "scattergeo": [
                      {
                        "marker": {
                          "colorbar": {
                            "outlinewidth": 0,
                            "ticks": ""
                          }
                        },
                        "type": "scattergeo"
                      }
                    ],
                    "scattergl": [
                      {
                        "marker": {
                          "colorbar": {
                            "outlinewidth": 0,
                            "ticks": ""
                          }
                        },
                        "type": "scattergl"
                      }
                    ],
                    "scattermapbox": [
                      {
                        "marker": {
                          "colorbar": {
                            "outlinewidth": 0,
                            "ticks": ""
                          }
                        },
                        "type": "scattermapbox"
                      }
                    ],
                    "scatterpolar": [
                      {
                        "marker": {
                          "colorbar": {
                            "outlinewidth": 0,
                            "ticks": ""
                          }
                        },
                        "type": "scatterpolar"
                      }
                    ],
                    "scatterpolargl": [
                      {
                        "marker": {
                          "colorbar": {
                            "outlinewidth": 0,
                            "ticks": ""
                          }
                        },
                        "type": "scatterpolargl"
                      }
                    ],
                    "scatterternary": [
                      {
                        "marker": {
                          "colorbar": {
                            "outlinewidth": 0,
                            "ticks": ""
                          }
                        },
                        "type": "scatterternary"
                      }
                    ],
                    "surface": [
                      {
                        "colorbar": {
                          "outlinewidth": 0,
                          "ticks": ""
                        },
                        "colorscale": [
                          [
                            0,
                            "#0d0887"
                          ],
                          [
                            0.1111111111111111,
                            "#46039f"
                          ],
                          [
                            0.2222222222222222,
                            "#7201a8"
                          ],
                          [
                            0.3333333333333333,
                            "#9c179e"
                          ],
                          [
                            0.4444444444444444,
                            "#bd3786"
                          ],
                          [
                            0.5555555555555556,
                            "#d8576b"
                          ],
                          [
                            0.6666666666666666,
                            "#ed7953"
                          ],
                          [
                            0.7777777777777778,
                            "#fb9f3a"
                          ],
                          [
                            0.8888888888888888,
                            "#fdca26"
                          ],
                          [
                            1,
                            "#f0f921"
                          ]
                        ],
                        "type": "surface"
                      }
                    ],
                    "table": [
                      {
                        "cells": {
                          "fill": {
                            "color": "#EBF0F8"
                          },
                          "line": {
                            "color": "white"
                          }
                        },
                        "header": {
                          "fill": {
                            "color": "#C8D4E3"
                          },
                          "line": {
                            "color": "white"
                          }
                        },
                        "type": "table"
                      }
                    ]
                  },
                  "layout": {
                    "annotationdefaults": {
                      "arrowcolor": "#2a3f5f",
                      "arrowhead": 0,
                      "arrowwidth": 1
                    },
                    "autotypenumbers": "strict",
                    "coloraxis": {
                      "colorbar": {
                        "outlinewidth": 0,
                        "ticks": ""
                      }
                    },
                    "colorscale": {
                      "diverging": [
                        [
                          0,
                          "#8e0152"
                        ],
                        [
                          0.1,
                          "#c51b7d"
                        ],
                        [
                          0.2,
                          "#de77ae"
                        ],
                        [
                          0.3,
                          "#f1b6da"
                        ],
                        [
                          0.4,
                          "#fde0ef"
                        ],
                        [
                          0.5,
                          "#f7f7f7"
                        ],
                        [
                          0.6,
                          "#e6f5d0"
                        ],
                        [
                          0.7,
                          "#b8e186"
                        ],
                        [
                          0.8,
                          "#7fbc41"
                        ],
                        [
                          0.9,
                          "#4d9221"
                        ],
                        [
                          1,
                          "#276419"
                        ]
                      ],
                      "sequential": [
                        [
                          0,
                          "#0d0887"
                        ],
                        [
                          0.1111111111111111,
                          "#46039f"
                        ],
                        [
                          0.2222222222222222,
                          "#7201a8"
                        ],
                        [
                          0.3333333333333333,
                          "#9c179e"
                        ],
                        [
                          0.4444444444444444,
                          "#bd3786"
                        ],
                        [
                          0.5555555555555556,
                          "#d8576b"
                        ],
                        [
                          0.6666666666666666,
                          "#ed7953"
                        ],
                        [
                          0.7777777777777778,
                          "#fb9f3a"
                        ],
                        [
                          0.8888888888888888,
                          "#fdca26"
                        ],
                        [
                          1,
                          "#f0f921"
                        ]
                      ],
                      "sequentialminus": [
                        [
                          0,
                          "#0d0887"
                        ],
                        [
                          0.1111111111111111,
                          "#46039f"
                        ],
                        [
                          0.2222222222222222,
                          "#7201a8"
                        ],
                        [
                          0.3333333333333333,
                          "#9c179e"
                        ],
                        [
                          0.4444444444444444,
                          "#bd3786"
                        ],
                        [
                          0.5555555555555556,
                          "#d8576b"
                        ],
                        [
                          0.6666666666666666,
                          "#ed7953"
                        ],
                        [
                          0.7777777777777778,
                          "#fb9f3a"
                        ],
                        [
                          0.8888888888888888,
                          "#fdca26"
                        ],
                        [
                          1,
                          "#f0f921"
                        ]
                      ]
                    },
                    "colorway": [
                      "#636efa",
                      "#EF553B",
                      "#00cc96",
                      "#ab63fa",
                      "#FFA15A",
                      "#19d3f3",
                      "#FF6692",
                      "#B6E880",
                      "#FF97FF",
                      "#FECB52"
                    ],
                    "font": {
                      "color": "#2a3f5f"
                    },
                    "geo": {
                      "bgcolor": "white",
                      "lakecolor": "white",
                      "landcolor": "#E5ECF6",
                      "showlakes": true,
                      "showland": true,
                      "subunitcolor": "white"
                    },
                    "hoverlabel": {
                      "align": "left"
                    },
                    "hovermode": "closest",
                    "mapbox": {
                      "style": "light"
                    },
                    "paper_bgcolor": "white",
                    "plot_bgcolor": "#E5ECF6",
                    "polar": {
                      "angularaxis": {
                        "gridcolor": "white",
                        "linecolor": "white",
                        "ticks": ""
                      },
                      "bgcolor": "#E5ECF6",
                      "radialaxis": {
                        "gridcolor": "white",
                        "linecolor": "white",
                        "ticks": ""
                      }
                    },
                    "scene": {
                      "xaxis": {
                        "backgroundcolor": "#E5ECF6",
                        "gridcolor": "white",
                        "gridwidth": 2,
                        "linecolor": "white",
                        "showbackground": true,
                        "ticks": "",
                        "zerolinecolor": "white"
                      },
                      "yaxis": {
                        "backgroundcolor": "#E5ECF6",
                        "gridcolor": "white",
                        "gridwidth": 2,
                        "linecolor": "white",
                        "showbackground": true,
                        "ticks": "",
                        "zerolinecolor": "white"
                      },
                      "zaxis": {
                        "backgroundcolor": "#E5ECF6",
                        "gridcolor": "white",
                        "gridwidth": 2,
                        "linecolor": "white",
                        "showbackground": true,
                        "ticks": "",
                        "zerolinecolor": "white"
                      }
                    },
                    "shapedefaults": {
                      "line": {
                        "color": "#2a3f5f"
                      }
                    },
                    "ternary": {
                      "aaxis": {
                        "gridcolor": "white",
                        "linecolor": "white",
                        "ticks": ""
                      },
                      "baxis": {
                        "gridcolor": "white",
                        "linecolor": "white",
                        "ticks": ""
                      },
                      "bgcolor": "#E5ECF6",
                      "caxis": {
                        "gridcolor": "white",
                        "linecolor": "white",
                        "ticks": ""
                      }
                    },
                    "title": {
                      "x": 0.05
                    },
                    "xaxis": {
                      "automargin": true,
                      "gridcolor": "white",
                      "linecolor": "white",
                      "ticks": "",
                      "title": {
                        "standoff": 15
                      },
                      "zerolinecolor": "white",
                      "zerolinewidth": 2
                    },
                    "yaxis": {
                      "automargin": true,
                      "gridcolor": "white",
                      "linecolor": "white",
                      "ticks": "",
                      "title": {
                        "standoff": 15
                      },
                      "zerolinecolor": "white",
                      "zerolinewidth": 2
                    }
                  }
                },
                "title": {
                  "text": "Training Accuracy Comparison (3D)"
                },
                "width": 800
              }
            }
          },
          "metadata": {},
          "output_type": "display_data"
        }
      ],
      "source": [
        "# Create DataFrame for Training Accuracy\n",
        "train_data = []\n",
        "epochs = np.arange(1, 11)\n",
        "optimizers = ['Custom SGD', 'Custom SGD with Momentum', 'Custom Adam']\n",
        "\n",
        "for opt in optimizers:\n",
        "    for epoch, acc in enumerate(results[opt][0], 1):\n",
        "        train_data.append({\n",
        "            'Epoch': epoch,\n",
        "            'Optimizer': opt,\n",
        "            'Accuracy': acc\n",
        "        })\n",
        "\n",
        "df_train = pd.DataFrame(train_data)\n",
        "\n",
        "# Create interactive 3D plot\n",
        "fig = px.line_3d(df_train, \n",
        "                 x='Epoch', \n",
        "                 y='Optimizer', \n",
        "                 z='Accuracy',\n",
        "                 color='Optimizer',\n",
        "                 title='Training Accuracy Comparison (3D)',\n",
        "                 labels={'Accuracy': 'Training Accuracy'})\n",
        "\n",
        "fig.update_traces(line=dict(width=4))\n",
        "fig.update_layout(\n",
        "    scene = dict(\n",
        "        xaxis_title='Epoch',\n",
        "        yaxis_title='Optimizer',\n",
        "        zaxis_title='Training Accuracy'\n",
        "    ),\n",
        "    width=800,\n",
        "    height=600,\n",
        "    showlegend=True\n",
        ")\n",
        "fig.show()"
      ]
    },
    {
      "cell_type": "code",
      "execution_count": 19,
      "metadata": {},
      "outputs": [
        {
          "data": {
            "application/vnd.plotly.v1+json": {
              "config": {
                "plotlyServerURL": "https://plot.ly"
              },
              "data": [
                {
                  "hovertemplate": "Optimizer=%{y}<br>Epoch=%{x}<br>Test Accuracy=%{z}<extra></extra>",
                  "legendgroup": "Custom SGD",
                  "line": {
                    "color": "#636efa",
                    "dash": "solid",
                    "width": 4
                  },
                  "marker": {
                    "symbol": "circle"
                  },
                  "mode": "lines",
                  "name": "Custom SGD",
                  "scene": "scene",
                  "showlegend": true,
                  "type": "scatter3d",
                  "x": [
                    1,
                    2,
                    3,
                    4,
                    5,
                    6,
                    7,
                    8,
                    9,
                    10
                  ],
                  "y": [
                    "Custom SGD",
                    "Custom SGD",
                    "Custom SGD",
                    "Custom SGD",
                    "Custom SGD",
                    "Custom SGD",
                    "Custom SGD",
                    "Custom SGD",
                    "Custom SGD",
                    "Custom SGD"
                  ],
                  "z": [
                    0.8894000053405762,
                    0.9117000102996826,
                    0.9221000075340271,
                    0.9286999702453613,
                    0.9333000183105469,
                    0.939300000667572,
                    0.9430999755859375,
                    0.9470000267028809,
                    0.9485999941825867,
                    0.9513999819755554
                  ]
                },
                {
                  "hovertemplate": "Optimizer=%{y}<br>Epoch=%{x}<br>Test Accuracy=%{z}<extra></extra>",
                  "legendgroup": "Custom SGD with Momentum",
                  "line": {
                    "color": "#EF553B",
                    "dash": "solid",
                    "width": 4
                  },
                  "marker": {
                    "symbol": "circle"
                  },
                  "mode": "lines",
                  "name": "Custom SGD with Momentum",
                  "scene": "scene",
                  "showlegend": true,
                  "type": "scatter3d",
                  "x": [
                    1,
                    2,
                    3,
                    4,
                    5,
                    6,
                    7,
                    8,
                    9,
                    10
                  ],
                  "y": [
                    "Custom SGD with Momentum",
                    "Custom SGD with Momentum",
                    "Custom SGD with Momentum",
                    "Custom SGD with Momentum",
                    "Custom SGD with Momentum",
                    "Custom SGD with Momentum",
                    "Custom SGD with Momentum",
                    "Custom SGD with Momentum",
                    "Custom SGD with Momentum",
                    "Custom SGD with Momentum"
                  ],
                  "z": [
                    0.9431999921798706,
                    0.9575999975204468,
                    0.9671000242233276,
                    0.9692999720573425,
                    0.9739999771118164,
                    0.9740999937057495,
                    0.9742000102996826,
                    0.9753000140190125,
                    0.9750000238418579,
                    0.9764999747276306
                  ]
                },
                {
                  "hovertemplate": "Optimizer=%{y}<br>Epoch=%{x}<br>Test Accuracy=%{z}<extra></extra>",
                  "legendgroup": "Custom Adam",
                  "line": {
                    "color": "#00cc96",
                    "dash": "solid",
                    "width": 4
                  },
                  "marker": {
                    "symbol": "circle"
                  },
                  "mode": "lines",
                  "name": "Custom Adam",
                  "scene": "scene",
                  "showlegend": true,
                  "type": "scatter3d",
                  "x": [
                    1,
                    2,
                    3,
                    4,
                    5,
                    6,
                    7,
                    8,
                    9,
                    10
                  ],
                  "y": [
                    "Custom Adam",
                    "Custom Adam",
                    "Custom Adam",
                    "Custom Adam",
                    "Custom Adam",
                    "Custom Adam",
                    "Custom Adam",
                    "Custom Adam",
                    "Custom Adam",
                    "Custom Adam"
                  ],
                  "z": [
                    0.9611999988555908,
                    0.9657999873161316,
                    0.972599983215332,
                    0.9728999733924866,
                    0.9793000221252441,
                    0.9757000207901001,
                    0.9757000207901001,
                    0.979200005531311,
                    0.9771999716758728,
                    0.9765999913215637
                  ]
                }
              ],
              "layout": {
                "height": 600,
                "legend": {
                  "title": {
                    "text": "Optimizer"
                  },
                  "tracegroupgap": 0
                },
                "scene": {
                  "domain": {
                    "x": [
                      0,
                      1
                    ],
                    "y": [
                      0,
                      1
                    ]
                  },
                  "xaxis": {
                    "title": {
                      "text": "Epoch"
                    }
                  },
                  "yaxis": {
                    "categoryarray": [
                      "Custom SGD",
                      "Custom SGD with Momentum",
                      "Custom Adam"
                    ],
                    "categoryorder": "array",
                    "title": {
                      "text": "Optimizer"
                    }
                  },
                  "zaxis": {
                    "title": {
                      "text": "Test Accuracy"
                    }
                  }
                },
                "showlegend": true,
                "template": {
                  "data": {
                    "bar": [
                      {
                        "error_x": {
                          "color": "#2a3f5f"
                        },
                        "error_y": {
                          "color": "#2a3f5f"
                        },
                        "marker": {
                          "line": {
                            "color": "#E5ECF6",
                            "width": 0.5
                          },
                          "pattern": {
                            "fillmode": "overlay",
                            "size": 10,
                            "solidity": 0.2
                          }
                        },
                        "type": "bar"
                      }
                    ],
                    "barpolar": [
                      {
                        "marker": {
                          "line": {
                            "color": "#E5ECF6",
                            "width": 0.5
                          },
                          "pattern": {
                            "fillmode": "overlay",
                            "size": 10,
                            "solidity": 0.2
                          }
                        },
                        "type": "barpolar"
                      }
                    ],
                    "carpet": [
                      {
                        "aaxis": {
                          "endlinecolor": "#2a3f5f",
                          "gridcolor": "white",
                          "linecolor": "white",
                          "minorgridcolor": "white",
                          "startlinecolor": "#2a3f5f"
                        },
                        "baxis": {
                          "endlinecolor": "#2a3f5f",
                          "gridcolor": "white",
                          "linecolor": "white",
                          "minorgridcolor": "white",
                          "startlinecolor": "#2a3f5f"
                        },
                        "type": "carpet"
                      }
                    ],
                    "choropleth": [
                      {
                        "colorbar": {
                          "outlinewidth": 0,
                          "ticks": ""
                        },
                        "type": "choropleth"
                      }
                    ],
                    "contour": [
                      {
                        "colorbar": {
                          "outlinewidth": 0,
                          "ticks": ""
                        },
                        "colorscale": [
                          [
                            0,
                            "#0d0887"
                          ],
                          [
                            0.1111111111111111,
                            "#46039f"
                          ],
                          [
                            0.2222222222222222,
                            "#7201a8"
                          ],
                          [
                            0.3333333333333333,
                            "#9c179e"
                          ],
                          [
                            0.4444444444444444,
                            "#bd3786"
                          ],
                          [
                            0.5555555555555556,
                            "#d8576b"
                          ],
                          [
                            0.6666666666666666,
                            "#ed7953"
                          ],
                          [
                            0.7777777777777778,
                            "#fb9f3a"
                          ],
                          [
                            0.8888888888888888,
                            "#fdca26"
                          ],
                          [
                            1,
                            "#f0f921"
                          ]
                        ],
                        "type": "contour"
                      }
                    ],
                    "contourcarpet": [
                      {
                        "colorbar": {
                          "outlinewidth": 0,
                          "ticks": ""
                        },
                        "type": "contourcarpet"
                      }
                    ],
                    "heatmap": [
                      {
                        "colorbar": {
                          "outlinewidth": 0,
                          "ticks": ""
                        },
                        "colorscale": [
                          [
                            0,
                            "#0d0887"
                          ],
                          [
                            0.1111111111111111,
                            "#46039f"
                          ],
                          [
                            0.2222222222222222,
                            "#7201a8"
                          ],
                          [
                            0.3333333333333333,
                            "#9c179e"
                          ],
                          [
                            0.4444444444444444,
                            "#bd3786"
                          ],
                          [
                            0.5555555555555556,
                            "#d8576b"
                          ],
                          [
                            0.6666666666666666,
                            "#ed7953"
                          ],
                          [
                            0.7777777777777778,
                            "#fb9f3a"
                          ],
                          [
                            0.8888888888888888,
                            "#fdca26"
                          ],
                          [
                            1,
                            "#f0f921"
                          ]
                        ],
                        "type": "heatmap"
                      }
                    ],
                    "heatmapgl": [
                      {
                        "colorbar": {
                          "outlinewidth": 0,
                          "ticks": ""
                        },
                        "colorscale": [
                          [
                            0,
                            "#0d0887"
                          ],
                          [
                            0.1111111111111111,
                            "#46039f"
                          ],
                          [
                            0.2222222222222222,
                            "#7201a8"
                          ],
                          [
                            0.3333333333333333,
                            "#9c179e"
                          ],
                          [
                            0.4444444444444444,
                            "#bd3786"
                          ],
                          [
                            0.5555555555555556,
                            "#d8576b"
                          ],
                          [
                            0.6666666666666666,
                            "#ed7953"
                          ],
                          [
                            0.7777777777777778,
                            "#fb9f3a"
                          ],
                          [
                            0.8888888888888888,
                            "#fdca26"
                          ],
                          [
                            1,
                            "#f0f921"
                          ]
                        ],
                        "type": "heatmapgl"
                      }
                    ],
                    "histogram": [
                      {
                        "marker": {
                          "pattern": {
                            "fillmode": "overlay",
                            "size": 10,
                            "solidity": 0.2
                          }
                        },
                        "type": "histogram"
                      }
                    ],
                    "histogram2d": [
                      {
                        "colorbar": {
                          "outlinewidth": 0,
                          "ticks": ""
                        },
                        "colorscale": [
                          [
                            0,
                            "#0d0887"
                          ],
                          [
                            0.1111111111111111,
                            "#46039f"
                          ],
                          [
                            0.2222222222222222,
                            "#7201a8"
                          ],
                          [
                            0.3333333333333333,
                            "#9c179e"
                          ],
                          [
                            0.4444444444444444,
                            "#bd3786"
                          ],
                          [
                            0.5555555555555556,
                            "#d8576b"
                          ],
                          [
                            0.6666666666666666,
                            "#ed7953"
                          ],
                          [
                            0.7777777777777778,
                            "#fb9f3a"
                          ],
                          [
                            0.8888888888888888,
                            "#fdca26"
                          ],
                          [
                            1,
                            "#f0f921"
                          ]
                        ],
                        "type": "histogram2d"
                      }
                    ],
                    "histogram2dcontour": [
                      {
                        "colorbar": {
                          "outlinewidth": 0,
                          "ticks": ""
                        },
                        "colorscale": [
                          [
                            0,
                            "#0d0887"
                          ],
                          [
                            0.1111111111111111,
                            "#46039f"
                          ],
                          [
                            0.2222222222222222,
                            "#7201a8"
                          ],
                          [
                            0.3333333333333333,
                            "#9c179e"
                          ],
                          [
                            0.4444444444444444,
                            "#bd3786"
                          ],
                          [
                            0.5555555555555556,
                            "#d8576b"
                          ],
                          [
                            0.6666666666666666,
                            "#ed7953"
                          ],
                          [
                            0.7777777777777778,
                            "#fb9f3a"
                          ],
                          [
                            0.8888888888888888,
                            "#fdca26"
                          ],
                          [
                            1,
                            "#f0f921"
                          ]
                        ],
                        "type": "histogram2dcontour"
                      }
                    ],
                    "mesh3d": [
                      {
                        "colorbar": {
                          "outlinewidth": 0,
                          "ticks": ""
                        },
                        "type": "mesh3d"
                      }
                    ],
                    "parcoords": [
                      {
                        "line": {
                          "colorbar": {
                            "outlinewidth": 0,
                            "ticks": ""
                          }
                        },
                        "type": "parcoords"
                      }
                    ],
                    "pie": [
                      {
                        "automargin": true,
                        "type": "pie"
                      }
                    ],
                    "scatter": [
                      {
                        "fillpattern": {
                          "fillmode": "overlay",
                          "size": 10,
                          "solidity": 0.2
                        },
                        "type": "scatter"
                      }
                    ],
                    "scatter3d": [
                      {
                        "line": {
                          "colorbar": {
                            "outlinewidth": 0,
                            "ticks": ""
                          }
                        },
                        "marker": {
                          "colorbar": {
                            "outlinewidth": 0,
                            "ticks": ""
                          }
                        },
                        "type": "scatter3d"
                      }
                    ],
                    "scattercarpet": [
                      {
                        "marker": {
                          "colorbar": {
                            "outlinewidth": 0,
                            "ticks": ""
                          }
                        },
                        "type": "scattercarpet"
                      }
                    ],
                    "scattergeo": [
                      {
                        "marker": {
                          "colorbar": {
                            "outlinewidth": 0,
                            "ticks": ""
                          }
                        },
                        "type": "scattergeo"
                      }
                    ],
                    "scattergl": [
                      {
                        "marker": {
                          "colorbar": {
                            "outlinewidth": 0,
                            "ticks": ""
                          }
                        },
                        "type": "scattergl"
                      }
                    ],
                    "scattermapbox": [
                      {
                        "marker": {
                          "colorbar": {
                            "outlinewidth": 0,
                            "ticks": ""
                          }
                        },
                        "type": "scattermapbox"
                      }
                    ],
                    "scatterpolar": [
                      {
                        "marker": {
                          "colorbar": {
                            "outlinewidth": 0,
                            "ticks": ""
                          }
                        },
                        "type": "scatterpolar"
                      }
                    ],
                    "scatterpolargl": [
                      {
                        "marker": {
                          "colorbar": {
                            "outlinewidth": 0,
                            "ticks": ""
                          }
                        },
                        "type": "scatterpolargl"
                      }
                    ],
                    "scatterternary": [
                      {
                        "marker": {
                          "colorbar": {
                            "outlinewidth": 0,
                            "ticks": ""
                          }
                        },
                        "type": "scatterternary"
                      }
                    ],
                    "surface": [
                      {
                        "colorbar": {
                          "outlinewidth": 0,
                          "ticks": ""
                        },
                        "colorscale": [
                          [
                            0,
                            "#0d0887"
                          ],
                          [
                            0.1111111111111111,
                            "#46039f"
                          ],
                          [
                            0.2222222222222222,
                            "#7201a8"
                          ],
                          [
                            0.3333333333333333,
                            "#9c179e"
                          ],
                          [
                            0.4444444444444444,
                            "#bd3786"
                          ],
                          [
                            0.5555555555555556,
                            "#d8576b"
                          ],
                          [
                            0.6666666666666666,
                            "#ed7953"
                          ],
                          [
                            0.7777777777777778,
                            "#fb9f3a"
                          ],
                          [
                            0.8888888888888888,
                            "#fdca26"
                          ],
                          [
                            1,
                            "#f0f921"
                          ]
                        ],
                        "type": "surface"
                      }
                    ],
                    "table": [
                      {
                        "cells": {
                          "fill": {
                            "color": "#EBF0F8"
                          },
                          "line": {
                            "color": "white"
                          }
                        },
                        "header": {
                          "fill": {
                            "color": "#C8D4E3"
                          },
                          "line": {
                            "color": "white"
                          }
                        },
                        "type": "table"
                      }
                    ]
                  },
                  "layout": {
                    "annotationdefaults": {
                      "arrowcolor": "#2a3f5f",
                      "arrowhead": 0,
                      "arrowwidth": 1
                    },
                    "autotypenumbers": "strict",
                    "coloraxis": {
                      "colorbar": {
                        "outlinewidth": 0,
                        "ticks": ""
                      }
                    },
                    "colorscale": {
                      "diverging": [
                        [
                          0,
                          "#8e0152"
                        ],
                        [
                          0.1,
                          "#c51b7d"
                        ],
                        [
                          0.2,
                          "#de77ae"
                        ],
                        [
                          0.3,
                          "#f1b6da"
                        ],
                        [
                          0.4,
                          "#fde0ef"
                        ],
                        [
                          0.5,
                          "#f7f7f7"
                        ],
                        [
                          0.6,
                          "#e6f5d0"
                        ],
                        [
                          0.7,
                          "#b8e186"
                        ],
                        [
                          0.8,
                          "#7fbc41"
                        ],
                        [
                          0.9,
                          "#4d9221"
                        ],
                        [
                          1,
                          "#276419"
                        ]
                      ],
                      "sequential": [
                        [
                          0,
                          "#0d0887"
                        ],
                        [
                          0.1111111111111111,
                          "#46039f"
                        ],
                        [
                          0.2222222222222222,
                          "#7201a8"
                        ],
                        [
                          0.3333333333333333,
                          "#9c179e"
                        ],
                        [
                          0.4444444444444444,
                          "#bd3786"
                        ],
                        [
                          0.5555555555555556,
                          "#d8576b"
                        ],
                        [
                          0.6666666666666666,
                          "#ed7953"
                        ],
                        [
                          0.7777777777777778,
                          "#fb9f3a"
                        ],
                        [
                          0.8888888888888888,
                          "#fdca26"
                        ],
                        [
                          1,
                          "#f0f921"
                        ]
                      ],
                      "sequentialminus": [
                        [
                          0,
                          "#0d0887"
                        ],
                        [
                          0.1111111111111111,
                          "#46039f"
                        ],
                        [
                          0.2222222222222222,
                          "#7201a8"
                        ],
                        [
                          0.3333333333333333,
                          "#9c179e"
                        ],
                        [
                          0.4444444444444444,
                          "#bd3786"
                        ],
                        [
                          0.5555555555555556,
                          "#d8576b"
                        ],
                        [
                          0.6666666666666666,
                          "#ed7953"
                        ],
                        [
                          0.7777777777777778,
                          "#fb9f3a"
                        ],
                        [
                          0.8888888888888888,
                          "#fdca26"
                        ],
                        [
                          1,
                          "#f0f921"
                        ]
                      ]
                    },
                    "colorway": [
                      "#636efa",
                      "#EF553B",
                      "#00cc96",
                      "#ab63fa",
                      "#FFA15A",
                      "#19d3f3",
                      "#FF6692",
                      "#B6E880",
                      "#FF97FF",
                      "#FECB52"
                    ],
                    "font": {
                      "color": "#2a3f5f"
                    },
                    "geo": {
                      "bgcolor": "white",
                      "lakecolor": "white",
                      "landcolor": "#E5ECF6",
                      "showlakes": true,
                      "showland": true,
                      "subunitcolor": "white"
                    },
                    "hoverlabel": {
                      "align": "left"
                    },
                    "hovermode": "closest",
                    "mapbox": {
                      "style": "light"
                    },
                    "paper_bgcolor": "white",
                    "plot_bgcolor": "#E5ECF6",
                    "polar": {
                      "angularaxis": {
                        "gridcolor": "white",
                        "linecolor": "white",
                        "ticks": ""
                      },
                      "bgcolor": "#E5ECF6",
                      "radialaxis": {
                        "gridcolor": "white",
                        "linecolor": "white",
                        "ticks": ""
                      }
                    },
                    "scene": {
                      "xaxis": {
                        "backgroundcolor": "#E5ECF6",
                        "gridcolor": "white",
                        "gridwidth": 2,
                        "linecolor": "white",
                        "showbackground": true,
                        "ticks": "",
                        "zerolinecolor": "white"
                      },
                      "yaxis": {
                        "backgroundcolor": "#E5ECF6",
                        "gridcolor": "white",
                        "gridwidth": 2,
                        "linecolor": "white",
                        "showbackground": true,
                        "ticks": "",
                        "zerolinecolor": "white"
                      },
                      "zaxis": {
                        "backgroundcolor": "#E5ECF6",
                        "gridcolor": "white",
                        "gridwidth": 2,
                        "linecolor": "white",
                        "showbackground": true,
                        "ticks": "",
                        "zerolinecolor": "white"
                      }
                    },
                    "shapedefaults": {
                      "line": {
                        "color": "#2a3f5f"
                      }
                    },
                    "ternary": {
                      "aaxis": {
                        "gridcolor": "white",
                        "linecolor": "white",
                        "ticks": ""
                      },
                      "baxis": {
                        "gridcolor": "white",
                        "linecolor": "white",
                        "ticks": ""
                      },
                      "bgcolor": "#E5ECF6",
                      "caxis": {
                        "gridcolor": "white",
                        "linecolor": "white",
                        "ticks": ""
                      }
                    },
                    "title": {
                      "x": 0.05
                    },
                    "xaxis": {
                      "automargin": true,
                      "gridcolor": "white",
                      "linecolor": "white",
                      "ticks": "",
                      "title": {
                        "standoff": 15
                      },
                      "zerolinecolor": "white",
                      "zerolinewidth": 2
                    },
                    "yaxis": {
                      "automargin": true,
                      "gridcolor": "white",
                      "linecolor": "white",
                      "ticks": "",
                      "title": {
                        "standoff": 15
                      },
                      "zerolinecolor": "white",
                      "zerolinewidth": 2
                    }
                  }
                },
                "title": {
                  "text": "Test Accuracy Comparison (3D)"
                },
                "width": 800
              }
            }
          },
          "metadata": {},
          "output_type": "display_data"
        }
      ],
      "source": [
        "# Create DataFrame for Test Accuracy\n",
        "test_data = []\n",
        "for opt in optimizers:\n",
        "    for epoch, acc in enumerate(results[opt][1], 1):\n",
        "        test_data.append({\n",
        "            'Epoch': epoch,\n",
        "            'Optimizer': opt,\n",
        "            'Accuracy': acc\n",
        "        })\n",
        "\n",
        "df_test = pd.DataFrame(test_data)\n",
        "\n",
        "# Create interactive 3D plot\n",
        "fig = px.line_3d(df_test, \n",
        "                 x='Epoch', \n",
        "                 y='Optimizer', \n",
        "                 z='Accuracy',\n",
        "                 color='Optimizer',\n",
        "                 title='Test Accuracy Comparison (3D)',\n",
        "                 labels={'Accuracy': 'Test Accuracy'})\n",
        "\n",
        "fig.update_traces(line=dict(width=4))\n",
        "fig.update_layout(\n",
        "    scene = dict(\n",
        "        xaxis_title='Epoch',\n",
        "        yaxis_title='Optimizer',\n",
        "        zaxis_title='Test Accuracy'\n",
        "    ),\n",
        "    width=800,\n",
        "    height=600,\n",
        "    showlegend=True\n",
        ")\n",
        "fig.show()"
      ]
    },
    {
      "cell_type": "code",
      "execution_count": 20,
      "metadata": {},
      "outputs": [
        {
          "data": {
            "application/vnd.plotly.v1+json": {
              "config": {
                "plotlyServerURL": "https://plot.ly"
              },
              "data": [
                {
                  "colorscale": [
                    [
                      0,
                      "#440154"
                    ],
                    [
                      0.1111111111111111,
                      "#482878"
                    ],
                    [
                      0.2222222222222222,
                      "#3e4989"
                    ],
                    [
                      0.3333333333333333,
                      "#31688e"
                    ],
                    [
                      0.4444444444444444,
                      "#26828e"
                    ],
                    [
                      0.5555555555555556,
                      "#1f9e89"
                    ],
                    [
                      0.6666666666666666,
                      "#35b779"
                    ],
                    [
                      0.7777777777777778,
                      "#6ece58"
                    ],
                    [
                      0.8888888888888888,
                      "#b5de2b"
                    ],
                    [
                      1,
                      "#fde725"
                    ]
                  ],
                  "type": "surface",
                  "x": [
                    [
                      1,
                      2,
                      3,
                      4,
                      5,
                      6,
                      7,
                      8,
                      9,
                      10
                    ],
                    [
                      1,
                      2,
                      3,
                      4,
                      5,
                      6,
                      7,
                      8,
                      9,
                      10
                    ],
                    [
                      1,
                      2,
                      3,
                      4,
                      5,
                      6,
                      7,
                      8,
                      9,
                      10
                    ]
                  ],
                  "y": [
                    [
                      0,
                      0,
                      0,
                      0,
                      0,
                      0,
                      0,
                      0,
                      0,
                      0
                    ],
                    [
                      1,
                      1,
                      1,
                      1,
                      1,
                      1,
                      1,
                      1,
                      1,
                      1
                    ],
                    [
                      2,
                      2,
                      2,
                      2,
                      2,
                      2,
                      2,
                      2,
                      2,
                      2
                    ]
                  ],
                  "z": [
                    [
                      0.8821333050727844,
                      0.9066166877746582,
                      0.9188500046730042,
                      0.925849974155426,
                      0.9326000213623047,
                      0.9389833211898804,
                      0.9438999891281128,
                      0.9468833208084106,
                      0.949566662311554,
                      0.9526666402816772
                    ],
                    [
                      0.9452833533287048,
                      0.9627666473388672,
                      0.9728166460990906,
                      0.9769666790962219,
                      0.9829000234603882,
                      0.9876499772071838,
                      0.9873999953269958,
                      0.9890499711036682,
                      0.990933358669281,
                      0.9926833510398865
                    ],
                    [
                      0.9646333456039429,
                      0.972083330154419,
                      0.9812166690826416,
                      0.9853666424751282,
                      0.9919000267982483,
                      0.9918000102043152,
                      0.9904166460037231,
                      0.9949833154678345,
                      0.9939666390419006,
                      0.9932000041007996
                    ]
                  ]
                }
              ],
              "layout": {
                "height": 600,
                "scene": {
                  "xaxis": {
                    "title": {
                      "text": "Epoch"
                    }
                  },
                  "yaxis": {
                    "ticktext": [
                      "Custom SGD",
                      "Custom SGD with Momentum",
                      "Custom Adam"
                    ],
                    "tickvals": [
                      0,
                      1,
                      2
                    ],
                    "title": {
                      "text": "Optimizer Index"
                    }
                  },
                  "zaxis": {
                    "title": {
                      "text": "Training Accuracy"
                    }
                  }
                },
                "template": {
                  "data": {
                    "bar": [
                      {
                        "error_x": {
                          "color": "#2a3f5f"
                        },
                        "error_y": {
                          "color": "#2a3f5f"
                        },
                        "marker": {
                          "line": {
                            "color": "#E5ECF6",
                            "width": 0.5
                          },
                          "pattern": {
                            "fillmode": "overlay",
                            "size": 10,
                            "solidity": 0.2
                          }
                        },
                        "type": "bar"
                      }
                    ],
                    "barpolar": [
                      {
                        "marker": {
                          "line": {
                            "color": "#E5ECF6",
                            "width": 0.5
                          },
                          "pattern": {
                            "fillmode": "overlay",
                            "size": 10,
                            "solidity": 0.2
                          }
                        },
                        "type": "barpolar"
                      }
                    ],
                    "carpet": [
                      {
                        "aaxis": {
                          "endlinecolor": "#2a3f5f",
                          "gridcolor": "white",
                          "linecolor": "white",
                          "minorgridcolor": "white",
                          "startlinecolor": "#2a3f5f"
                        },
                        "baxis": {
                          "endlinecolor": "#2a3f5f",
                          "gridcolor": "white",
                          "linecolor": "white",
                          "minorgridcolor": "white",
                          "startlinecolor": "#2a3f5f"
                        },
                        "type": "carpet"
                      }
                    ],
                    "choropleth": [
                      {
                        "colorbar": {
                          "outlinewidth": 0,
                          "ticks": ""
                        },
                        "type": "choropleth"
                      }
                    ],
                    "contour": [
                      {
                        "colorbar": {
                          "outlinewidth": 0,
                          "ticks": ""
                        },
                        "colorscale": [
                          [
                            0,
                            "#0d0887"
                          ],
                          [
                            0.1111111111111111,
                            "#46039f"
                          ],
                          [
                            0.2222222222222222,
                            "#7201a8"
                          ],
                          [
                            0.3333333333333333,
                            "#9c179e"
                          ],
                          [
                            0.4444444444444444,
                            "#bd3786"
                          ],
                          [
                            0.5555555555555556,
                            "#d8576b"
                          ],
                          [
                            0.6666666666666666,
                            "#ed7953"
                          ],
                          [
                            0.7777777777777778,
                            "#fb9f3a"
                          ],
                          [
                            0.8888888888888888,
                            "#fdca26"
                          ],
                          [
                            1,
                            "#f0f921"
                          ]
                        ],
                        "type": "contour"
                      }
                    ],
                    "contourcarpet": [
                      {
                        "colorbar": {
                          "outlinewidth": 0,
                          "ticks": ""
                        },
                        "type": "contourcarpet"
                      }
                    ],
                    "heatmap": [
                      {
                        "colorbar": {
                          "outlinewidth": 0,
                          "ticks": ""
                        },
                        "colorscale": [
                          [
                            0,
                            "#0d0887"
                          ],
                          [
                            0.1111111111111111,
                            "#46039f"
                          ],
                          [
                            0.2222222222222222,
                            "#7201a8"
                          ],
                          [
                            0.3333333333333333,
                            "#9c179e"
                          ],
                          [
                            0.4444444444444444,
                            "#bd3786"
                          ],
                          [
                            0.5555555555555556,
                            "#d8576b"
                          ],
                          [
                            0.6666666666666666,
                            "#ed7953"
                          ],
                          [
                            0.7777777777777778,
                            "#fb9f3a"
                          ],
                          [
                            0.8888888888888888,
                            "#fdca26"
                          ],
                          [
                            1,
                            "#f0f921"
                          ]
                        ],
                        "type": "heatmap"
                      }
                    ],
                    "heatmapgl": [
                      {
                        "colorbar": {
                          "outlinewidth": 0,
                          "ticks": ""
                        },
                        "colorscale": [
                          [
                            0,
                            "#0d0887"
                          ],
                          [
                            0.1111111111111111,
                            "#46039f"
                          ],
                          [
                            0.2222222222222222,
                            "#7201a8"
                          ],
                          [
                            0.3333333333333333,
                            "#9c179e"
                          ],
                          [
                            0.4444444444444444,
                            "#bd3786"
                          ],
                          [
                            0.5555555555555556,
                            "#d8576b"
                          ],
                          [
                            0.6666666666666666,
                            "#ed7953"
                          ],
                          [
                            0.7777777777777778,
                            "#fb9f3a"
                          ],
                          [
                            0.8888888888888888,
                            "#fdca26"
                          ],
                          [
                            1,
                            "#f0f921"
                          ]
                        ],
                        "type": "heatmapgl"
                      }
                    ],
                    "histogram": [
                      {
                        "marker": {
                          "pattern": {
                            "fillmode": "overlay",
                            "size": 10,
                            "solidity": 0.2
                          }
                        },
                        "type": "histogram"
                      }
                    ],
                    "histogram2d": [
                      {
                        "colorbar": {
                          "outlinewidth": 0,
                          "ticks": ""
                        },
                        "colorscale": [
                          [
                            0,
                            "#0d0887"
                          ],
                          [
                            0.1111111111111111,
                            "#46039f"
                          ],
                          [
                            0.2222222222222222,
                            "#7201a8"
                          ],
                          [
                            0.3333333333333333,
                            "#9c179e"
                          ],
                          [
                            0.4444444444444444,
                            "#bd3786"
                          ],
                          [
                            0.5555555555555556,
                            "#d8576b"
                          ],
                          [
                            0.6666666666666666,
                            "#ed7953"
                          ],
                          [
                            0.7777777777777778,
                            "#fb9f3a"
                          ],
                          [
                            0.8888888888888888,
                            "#fdca26"
                          ],
                          [
                            1,
                            "#f0f921"
                          ]
                        ],
                        "type": "histogram2d"
                      }
                    ],
                    "histogram2dcontour": [
                      {
                        "colorbar": {
                          "outlinewidth": 0,
                          "ticks": ""
                        },
                        "colorscale": [
                          [
                            0,
                            "#0d0887"
                          ],
                          [
                            0.1111111111111111,
                            "#46039f"
                          ],
                          [
                            0.2222222222222222,
                            "#7201a8"
                          ],
                          [
                            0.3333333333333333,
                            "#9c179e"
                          ],
                          [
                            0.4444444444444444,
                            "#bd3786"
                          ],
                          [
                            0.5555555555555556,
                            "#d8576b"
                          ],
                          [
                            0.6666666666666666,
                            "#ed7953"
                          ],
                          [
                            0.7777777777777778,
                            "#fb9f3a"
                          ],
                          [
                            0.8888888888888888,
                            "#fdca26"
                          ],
                          [
                            1,
                            "#f0f921"
                          ]
                        ],
                        "type": "histogram2dcontour"
                      }
                    ],
                    "mesh3d": [
                      {
                        "colorbar": {
                          "outlinewidth": 0,
                          "ticks": ""
                        },
                        "type": "mesh3d"
                      }
                    ],
                    "parcoords": [
                      {
                        "line": {
                          "colorbar": {
                            "outlinewidth": 0,
                            "ticks": ""
                          }
                        },
                        "type": "parcoords"
                      }
                    ],
                    "pie": [
                      {
                        "automargin": true,
                        "type": "pie"
                      }
                    ],
                    "scatter": [
                      {
                        "fillpattern": {
                          "fillmode": "overlay",
                          "size": 10,
                          "solidity": 0.2
                        },
                        "type": "scatter"
                      }
                    ],
                    "scatter3d": [
                      {
                        "line": {
                          "colorbar": {
                            "outlinewidth": 0,
                            "ticks": ""
                          }
                        },
                        "marker": {
                          "colorbar": {
                            "outlinewidth": 0,
                            "ticks": ""
                          }
                        },
                        "type": "scatter3d"
                      }
                    ],
                    "scattercarpet": [
                      {
                        "marker": {
                          "colorbar": {
                            "outlinewidth": 0,
                            "ticks": ""
                          }
                        },
                        "type": "scattercarpet"
                      }
                    ],
                    "scattergeo": [
                      {
                        "marker": {
                          "colorbar": {
                            "outlinewidth": 0,
                            "ticks": ""
                          }
                        },
                        "type": "scattergeo"
                      }
                    ],
                    "scattergl": [
                      {
                        "marker": {
                          "colorbar": {
                            "outlinewidth": 0,
                            "ticks": ""
                          }
                        },
                        "type": "scattergl"
                      }
                    ],
                    "scattermapbox": [
                      {
                        "marker": {
                          "colorbar": {
                            "outlinewidth": 0,
                            "ticks": ""
                          }
                        },
                        "type": "scattermapbox"
                      }
                    ],
                    "scatterpolar": [
                      {
                        "marker": {
                          "colorbar": {
                            "outlinewidth": 0,
                            "ticks": ""
                          }
                        },
                        "type": "scatterpolar"
                      }
                    ],
                    "scatterpolargl": [
                      {
                        "marker": {
                          "colorbar": {
                            "outlinewidth": 0,
                            "ticks": ""
                          }
                        },
                        "type": "scatterpolargl"
                      }
                    ],
                    "scatterternary": [
                      {
                        "marker": {
                          "colorbar": {
                            "outlinewidth": 0,
                            "ticks": ""
                          }
                        },
                        "type": "scatterternary"
                      }
                    ],
                    "surface": [
                      {
                        "colorbar": {
                          "outlinewidth": 0,
                          "ticks": ""
                        },
                        "colorscale": [
                          [
                            0,
                            "#0d0887"
                          ],
                          [
                            0.1111111111111111,
                            "#46039f"
                          ],
                          [
                            0.2222222222222222,
                            "#7201a8"
                          ],
                          [
                            0.3333333333333333,
                            "#9c179e"
                          ],
                          [
                            0.4444444444444444,
                            "#bd3786"
                          ],
                          [
                            0.5555555555555556,
                            "#d8576b"
                          ],
                          [
                            0.6666666666666666,
                            "#ed7953"
                          ],
                          [
                            0.7777777777777778,
                            "#fb9f3a"
                          ],
                          [
                            0.8888888888888888,
                            "#fdca26"
                          ],
                          [
                            1,
                            "#f0f921"
                          ]
                        ],
                        "type": "surface"
                      }
                    ],
                    "table": [
                      {
                        "cells": {
                          "fill": {
                            "color": "#EBF0F8"
                          },
                          "line": {
                            "color": "white"
                          }
                        },
                        "header": {
                          "fill": {
                            "color": "#C8D4E3"
                          },
                          "line": {
                            "color": "white"
                          }
                        },
                        "type": "table"
                      }
                    ]
                  },
                  "layout": {
                    "annotationdefaults": {
                      "arrowcolor": "#2a3f5f",
                      "arrowhead": 0,
                      "arrowwidth": 1
                    },
                    "autotypenumbers": "strict",
                    "coloraxis": {
                      "colorbar": {
                        "outlinewidth": 0,
                        "ticks": ""
                      }
                    },
                    "colorscale": {
                      "diverging": [
                        [
                          0,
                          "#8e0152"
                        ],
                        [
                          0.1,
                          "#c51b7d"
                        ],
                        [
                          0.2,
                          "#de77ae"
                        ],
                        [
                          0.3,
                          "#f1b6da"
                        ],
                        [
                          0.4,
                          "#fde0ef"
                        ],
                        [
                          0.5,
                          "#f7f7f7"
                        ],
                        [
                          0.6,
                          "#e6f5d0"
                        ],
                        [
                          0.7,
                          "#b8e186"
                        ],
                        [
                          0.8,
                          "#7fbc41"
                        ],
                        [
                          0.9,
                          "#4d9221"
                        ],
                        [
                          1,
                          "#276419"
                        ]
                      ],
                      "sequential": [
                        [
                          0,
                          "#0d0887"
                        ],
                        [
                          0.1111111111111111,
                          "#46039f"
                        ],
                        [
                          0.2222222222222222,
                          "#7201a8"
                        ],
                        [
                          0.3333333333333333,
                          "#9c179e"
                        ],
                        [
                          0.4444444444444444,
                          "#bd3786"
                        ],
                        [
                          0.5555555555555556,
                          "#d8576b"
                        ],
                        [
                          0.6666666666666666,
                          "#ed7953"
                        ],
                        [
                          0.7777777777777778,
                          "#fb9f3a"
                        ],
                        [
                          0.8888888888888888,
                          "#fdca26"
                        ],
                        [
                          1,
                          "#f0f921"
                        ]
                      ],
                      "sequentialminus": [
                        [
                          0,
                          "#0d0887"
                        ],
                        [
                          0.1111111111111111,
                          "#46039f"
                        ],
                        [
                          0.2222222222222222,
                          "#7201a8"
                        ],
                        [
                          0.3333333333333333,
                          "#9c179e"
                        ],
                        [
                          0.4444444444444444,
                          "#bd3786"
                        ],
                        [
                          0.5555555555555556,
                          "#d8576b"
                        ],
                        [
                          0.6666666666666666,
                          "#ed7953"
                        ],
                        [
                          0.7777777777777778,
                          "#fb9f3a"
                        ],
                        [
                          0.8888888888888888,
                          "#fdca26"
                        ],
                        [
                          1,
                          "#f0f921"
                        ]
                      ]
                    },
                    "colorway": [
                      "#636efa",
                      "#EF553B",
                      "#00cc96",
                      "#ab63fa",
                      "#FFA15A",
                      "#19d3f3",
                      "#FF6692",
                      "#B6E880",
                      "#FF97FF",
                      "#FECB52"
                    ],
                    "font": {
                      "color": "#2a3f5f"
                    },
                    "geo": {
                      "bgcolor": "white",
                      "lakecolor": "white",
                      "landcolor": "#E5ECF6",
                      "showlakes": true,
                      "showland": true,
                      "subunitcolor": "white"
                    },
                    "hoverlabel": {
                      "align": "left"
                    },
                    "hovermode": "closest",
                    "mapbox": {
                      "style": "light"
                    },
                    "paper_bgcolor": "white",
                    "plot_bgcolor": "#E5ECF6",
                    "polar": {
                      "angularaxis": {
                        "gridcolor": "white",
                        "linecolor": "white",
                        "ticks": ""
                      },
                      "bgcolor": "#E5ECF6",
                      "radialaxis": {
                        "gridcolor": "white",
                        "linecolor": "white",
                        "ticks": ""
                      }
                    },
                    "scene": {
                      "xaxis": {
                        "backgroundcolor": "#E5ECF6",
                        "gridcolor": "white",
                        "gridwidth": 2,
                        "linecolor": "white",
                        "showbackground": true,
                        "ticks": "",
                        "zerolinecolor": "white"
                      },
                      "yaxis": {
                        "backgroundcolor": "#E5ECF6",
                        "gridcolor": "white",
                        "gridwidth": 2,
                        "linecolor": "white",
                        "showbackground": true,
                        "ticks": "",
                        "zerolinecolor": "white"
                      },
                      "zaxis": {
                        "backgroundcolor": "#E5ECF6",
                        "gridcolor": "white",
                        "gridwidth": 2,
                        "linecolor": "white",
                        "showbackground": true,
                        "ticks": "",
                        "zerolinecolor": "white"
                      }
                    },
                    "shapedefaults": {
                      "line": {
                        "color": "#2a3f5f"
                      }
                    },
                    "ternary": {
                      "aaxis": {
                        "gridcolor": "white",
                        "linecolor": "white",
                        "ticks": ""
                      },
                      "baxis": {
                        "gridcolor": "white",
                        "linecolor": "white",
                        "ticks": ""
                      },
                      "bgcolor": "#E5ECF6",
                      "caxis": {
                        "gridcolor": "white",
                        "linecolor": "white",
                        "ticks": ""
                      }
                    },
                    "title": {
                      "x": 0.05
                    },
                    "xaxis": {
                      "automargin": true,
                      "gridcolor": "white",
                      "linecolor": "white",
                      "ticks": "",
                      "title": {
                        "standoff": 15
                      },
                      "zerolinecolor": "white",
                      "zerolinewidth": 2
                    },
                    "yaxis": {
                      "automargin": true,
                      "gridcolor": "white",
                      "linecolor": "white",
                      "ticks": "",
                      "title": {
                        "standoff": 15
                      },
                      "zerolinecolor": "white",
                      "zerolinewidth": 2
                    }
                  }
                },
                "title": {
                  "text": "Training Accuracy Surface"
                },
                "width": 800
              }
            }
          },
          "metadata": {},
          "output_type": "display_data"
        }
      ],
      "source": [
        "# Create surface plot data\n",
        "X, Y = np.meshgrid(epochs, np.arange(len(optimizers)))\n",
        "Z = np.array([results[opt][0] for opt in optimizers])\n",
        "\n",
        "# Create interactive surface plot\n",
        "fig = go.Figure(data=[go.Surface(\n",
        "    x=X, \n",
        "    y=Y, \n",
        "    z=Z,\n",
        "    colorscale='viridis'\n",
        ")])\n",
        "\n",
        "fig.update_layout(\n",
        "    title='Training Accuracy Surface',\n",
        "    scene = dict(\n",
        "        xaxis_title='Epoch',\n",
        "        yaxis_title='Optimizer Index',\n",
        "        zaxis_title='Training Accuracy',\n",
        "        yaxis = dict(\n",
        "            ticktext=optimizers,\n",
        "            tickvals=list(range(len(optimizers)))\n",
        "        )\n",
        "    ),\n",
        "    width=800,\n",
        "    height=600\n",
        ")\n",
        "\n",
        "fig.show()"
      ]
    }
  ],
  "metadata": {
    "colab": {
      "provenance": []
    },
    "kernelspec": {
      "display_name": "Python 3",
      "language": "python",
      "name": "python3"
    },
    "language_info": {
      "codemirror_mode": {
        "name": "ipython",
        "version": 3
      },
      "file_extension": ".py",
      "mimetype": "text/x-python",
      "name": "python",
      "nbconvert_exporter": "python",
      "pygments_lexer": "ipython3",
      "version": "3.12.8"
    }
  },
  "nbformat": 4,
  "nbformat_minor": 0
}
